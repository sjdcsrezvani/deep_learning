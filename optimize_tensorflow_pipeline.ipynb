{
 "cells": [
  {
   "cell_type": "markdown",
   "id": "a3c5419a-7599-408c-9838-494b4c630592",
   "metadata": {},
   "source": [
    "prefetch function will allow CPU and GPU to work at the same time, this will lead to save time in training our model\n",
    "\n",
    "tf.data.Dataset.prefetch(AUTOTUNE), tensorflow will decide how many batches it will fetch at same time period\n",
    "\n",
    "CPU will read the dataset and GPU will train it"
   ]
  },
  {
   "cell_type": "markdown",
   "id": "a6ae2502-f268-4587-88ed-7e5827d79582",
   "metadata": {},
   "source": [
    "tf.data.Dataset.cache() : it will do open , read , map, train functions on first epoch and for the rest of epochs it will only train the model based on first epoch data and functions"
   ]
  },
  {
   "cell_type": "code",
   "execution_count": 1,
   "id": "3720b4b4-c9d9-4cb4-9169-46cab91e3b43",
   "metadata": {},
   "outputs": [],
   "source": [
    "import tensorflow as tf\n",
    "import time"
   ]
  },
  {
   "cell_type": "code",
   "execution_count": 18,
   "id": "582269a1-d42c-4810-a1a1-e594108e0ec9",
   "metadata": {},
   "outputs": [],
   "source": [
    "# measuring performance of prefetch\n",
    "# it is dummy class to mimic the real thing\n",
    "\n",
    "class filedataset(tf.data.Dataset):\n",
    "    def read_files_in_batches(num_samples):\n",
    "        # open the file:\n",
    "        time.sleep(0.03)\n",
    "        for sample_idx in range(num_samples):\n",
    "            time.sleep(0.015) # this is reading files part (CPU)\n",
    "            yield (sample_idx,)\n",
    "\n",
    "    def __new__(cls, num_samples=3):\n",
    "        return tf.data.Dataset.from_generator(\n",
    "            cls.read_files_in_batches, # here we have our generator\n",
    "            output_signature= tf.TensorSpec(shape= (1,), dtype= tf.int64), # it will return integer\n",
    "            args=(num_samples,)\n",
    "        )\n",
    "        "
   ]
  },
  {
   "cell_type": "code",
   "execution_count": 25,
   "id": "a74c920f-75cd-43f1-8136-efe7221ecc92",
   "metadata": {},
   "outputs": [],
   "source": [
    "def benchmark(dataset, num_epochs=4):\n",
    "    for epoch in range(num_epochs):\n",
    "        for sample in dataset:\n",
    "            time.sleep(0.01) # this is training part (GPU)"
   ]
  },
  {
   "cell_type": "markdown",
   "id": "c9e737ad-4573-4185-9c4e-f3edda3e0b73",
   "metadata": {},
   "source": [
    "here we read and train everything sequentially"
   ]
  },
  {
   "cell_type": "code",
   "execution_count": 28,
   "id": "38ac5d88-d667-4969-be2a-03aa6924ec2f",
   "metadata": {},
   "outputs": [
    {
     "name": "stdout",
     "output_type": "stream",
     "text": [
      "717 ms ± 25.3 ms per loop (mean ± std. dev. of 7 runs, 1 loop each)\n"
     ]
    }
   ],
   "source": [
    "%%timeit\n",
    "\n",
    "benchmark(filedataset()) # it will go throgh everything and banchmarking it"
   ]
  },
  {
   "cell_type": "markdown",
   "id": "a8661d4f-8253-4572-88f9-0a4d6df77f4a",
   "metadata": {},
   "source": [
    "now we use prefetch technique to see how much it improves the performance"
   ]
  },
  {
   "cell_type": "code",
   "execution_count": 31,
   "id": "c244576b-579a-45ec-b752-81415630554d",
   "metadata": {},
   "outputs": [
    {
     "name": "stdout",
     "output_type": "stream",
     "text": [
      "633 ms ± 22.7 ms per loop (mean ± std. dev. of 7 runs, 1 loop each)\n"
     ]
    }
   ],
   "source": [
    "%%timeit\n",
    "\n",
    "benchmark(filedataset().prefetch(3)) # we can see it takes less time"
   ]
  },
  {
   "cell_type": "code",
   "execution_count": 32,
   "id": "93831339-fb08-4104-b5e8-b56293072b87",
   "metadata": {},
   "outputs": [
    {
     "name": "stdout",
     "output_type": "stream",
     "text": [
      "647 ms ± 22 ms per loop (mean ± std. dev. of 7 runs, 1 loop each)\n"
     ]
    }
   ],
   "source": [
    "%%timeit\n",
    "\n",
    "benchmark(filedataset().prefetch(tf.data.AUTOTUNE)) # autotune is common thing for prefetch"
   ]
  },
  {
   "cell_type": "markdown",
   "id": "1ac83467-15fa-461e-bab3-e4ae6847dbc9",
   "metadata": {},
   "source": [
    "### cache API\n",
    "it will open, read, map dataset only on first epoch"
   ]
  },
  {
   "cell_type": "code",
   "execution_count": 34,
   "id": "a828dcbe-b641-42b9-b34c-4c2e8d25f364",
   "metadata": {},
   "outputs": [
    {
     "name": "stdout",
     "output_type": "stream",
     "text": [
      "0\n",
      "1\n",
      "2\n",
      "3\n",
      "4\n"
     ]
    }
   ],
   "source": [
    "dataset = tf.data.Dataset.range(5)\n",
    "for d in dataset:\n",
    "    print(d.numpy())"
   ]
  },
  {
   "cell_type": "code",
   "execution_count": 35,
   "id": "d09111ad-f893-408f-97b1-f507463cc40e",
   "metadata": {},
   "outputs": [
    {
     "name": "stdout",
     "output_type": "stream",
     "text": [
      "0\n",
      "1\n",
      "4\n",
      "9\n",
      "16\n"
     ]
    }
   ],
   "source": [
    "dataset = dataset.map(lambda x: x**2)\n",
    "for d in dataset:\n",
    "    print(d.numpy())"
   ]
  },
  {
   "cell_type": "code",
   "execution_count": 37,
   "id": "fa12145b-59ec-4fb1-9dc3-7d587c7f45bb",
   "metadata": {},
   "outputs": [
    {
     "data": {
      "text/plain": [
       "[0, 1, 4, 9, 16]"
      ]
     },
     "execution_count": 37,
     "metadata": {},
     "output_type": "execute_result"
    }
   ],
   "source": [
    "dataset = dataset.cache()\n",
    "\n",
    "list(dataset.as_numpy_iterator()) # it will read it from cache"
   ]
  },
  {
   "cell_type": "code",
   "execution_count": 38,
   "id": "423b7f75-03c9-426e-8fad-e3197ceabc8d",
   "metadata": {},
   "outputs": [],
   "source": [
    "def mapped_function(s):\n",
    "    tf.py_function(lambda: time.sleep(0.03), [], ())\n",
    "    return s"
   ]
  },
  {
   "cell_type": "code",
   "execution_count": 39,
   "id": "19c747a2-8795-4af4-9830-ed84074b1a28",
   "metadata": {},
   "outputs": [
    {
     "name": "stdout",
     "output_type": "stream",
     "text": [
      "1.25 s ± 0 ns per loop (mean ± std. dev. of 1 run, 1 loop each)\n"
     ]
    }
   ],
   "source": [
    "%%timeit -n1 -r1\n",
    "\n",
    "benchmark(filedataset().map(mapped_function))"
   ]
  },
  {
   "cell_type": "code",
   "execution_count": 41,
   "id": "9a094ede-e053-4dcd-8cd2-3ad1f8ce21fb",
   "metadata": {},
   "outputs": [
    {
     "name": "stdout",
     "output_type": "stream",
     "text": [
      "488 ms ± 0 ns per loop (mean ± std. dev. of 1 run, 1 loop each)\n"
     ]
    }
   ],
   "source": [
    "%%timeit -n1 -r1\n",
    "\n",
    "benchmark(filedataset().map(mapped_function).cache())  # it will improve performance using cache"
   ]
  }
 ],
 "metadata": {
  "kernelspec": {
   "display_name": "Python 3 (ipykernel)",
   "language": "python",
   "name": "python3"
  },
  "language_info": {
   "codemirror_mode": {
    "name": "ipython",
    "version": 3
   },
   "file_extension": ".py",
   "mimetype": "text/x-python",
   "name": "python",
   "nbconvert_exporter": "python",
   "pygments_lexer": "ipython3",
   "version": "3.9.10"
  }
 },
 "nbformat": 4,
 "nbformat_minor": 5
}
