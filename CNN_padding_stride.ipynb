{
 "cells": [
  {
   "cell_type": "markdown",
   "id": "968b81eb-7799-40e6-a6f6-86d0a64305b6",
   "metadata": {},
   "source": [
    "# convolutaion padding and stride:"
   ]
  },
  {
   "cell_type": "markdown",
   "id": "247330bf-8fd5-49a9-aed8-c18eafd4baf8",
   "metadata": {},
   "source": [
    "# padding:"
   ]
  },
  {
   "cell_type": "markdown",
   "id": "40fb151d-c651-41db-a858-2bee1d9ef2bb",
   "metadata": {},
   "source": [
    "in valid convolution : \n",
    "\n",
    "disadvantage: corner pixels don't contribute as much in feature detection"
   ]
  },
  {
   "cell_type": "markdown",
   "id": "1caa967f-c2d7-4fb0-b85e-b9b867937099",
   "metadata": {},
   "source": [
    "to solve this problem we can pad the original image:\n",
    "\n",
    "we can add 2 to each dimension(2 dimensions) and value is -1 "
   ]
  },
  {
   "cell_type": "markdown",
   "id": "feb6b34d-c515-46d2-abd4-dc9917e2f163",
   "metadata": {},
   "source": [
    "original image(5x7) with padding = 1 , it will be (7x9) , feature size is 3x3 , then our output will be 5x7 which is same as original"
   ]
  },
  {
   "cell_type": "markdown",
   "id": "c87fb03a-ca1a-42eb-8ec3-1782338ddb2f",
   "metadata": {},
   "source": [
    "this will call 'same convolutaion' , code: layer.Conv2D(16, 3, padding='same', activation='relu')"
   ]
  },
  {
   "cell_type": "markdown",
   "id": "453547e1-5f62-47fb-8775-7fa3455f762b",
   "metadata": {},
   "source": [
    "# strides:"
   ]
  },
  {
   "cell_type": "markdown",
   "id": "9d33ad30-6a61-4b81-afb2-0761269d2bdf",
   "metadata": {},
   "source": [
    "it means how many pixels our feature detector window will move vertically and horizontally after each step"
   ]
  },
  {
   "cell_type": "markdown",
   "id": "2266cc8b-075d-427c-91ad-49fbc996a260",
   "metadata": {},
   "source": [
    "code : tf.keras.layers.Conv2D(strides=(1,1)) # it  will move 1 pixel in each direction"
   ]
  }
 ],
 "metadata": {
  "kernelspec": {
   "display_name": "Python 3 (ipykernel)",
   "language": "python",
   "name": "python3"
  },
  "language_info": {
   "codemirror_mode": {
    "name": "ipython",
    "version": 3
   },
   "file_extension": ".py",
   "mimetype": "text/x-python",
   "name": "python",
   "nbconvert_exporter": "python",
   "pygments_lexer": "ipython3",
   "version": "3.10.10"
  }
 },
 "nbformat": 4,
 "nbformat_minor": 5
}
