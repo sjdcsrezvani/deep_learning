{
 "cells": [
  {
   "cell_type": "markdown",
   "id": "a1909d39-e614-4007-9624-a91091af53f3",
   "metadata": {},
   "source": [
    "#### tf serving makes model version management and model serving very easy"
   ]
  },
  {
   "cell_type": "markdown",
   "id": "4161cb49-58dd-45a7-b7d8-9fb1d48a56a4",
   "metadata": {},
   "source": [
    "it has batch inferences : it will batch the requests for better hardware utilization"
   ]
  },
  {
   "cell_type": "markdown",
   "id": "120599cb-4e7c-4819-b93f-90d4af5a3c93",
   "metadata": {},
   "source": [
    "here we have some random model"
   ]
  },
  {
   "cell_type": "code",
   "execution_count": 28,
   "id": "9ed7a439-dc21-4e50-bedd-1c45b012a170",
   "metadata": {},
   "outputs": [],
   "source": [
    "import numpy as np\n",
    "from tensorflow.keras.preprocessing.text import one_hot\n",
    "from tensorflow.keras.preprocessing.sequence import pad_sequences\n",
    "from tensorflow.keras.models import Sequential\n",
    "from tensorflow.keras.layers import Dense\n",
    "from tensorflow.keras.layers import Flatten\n",
    "from tensorflow.keras.layers import Embedding"
   ]
  },
  {
   "cell_type": "code",
   "execution_count": 5,
   "id": "9006443d-06fc-479d-89dd-da202ec9a0f6",
   "metadata": {},
   "outputs": [],
   "source": [
    "reviews = ['nice food',\n",
    "        'amazing restaurant',\n",
    "        'too good',\n",
    "        'just loved it!',\n",
    "        'will go again',\n",
    "        'horrible food',\n",
    "        'never go there',\n",
    "        'poor service',\n",
    "        'poor quality',\n",
    "        'needs improvement']"
   ]
  },
  {
   "cell_type": "code",
   "execution_count": 6,
   "id": "c1342930-aa9a-4dcf-bf63-4bf97cd45344",
   "metadata": {},
   "outputs": [],
   "source": [
    "sentiment = np.array([1,1,1,1,1,0,0,0,0,0])\n",
    "\n",
    "vocab_size = 40\n",
    "\n",
    "encoded_reviews = [one_hot(a, vocab_size) for a in reviews]\n",
    "\n",
    "max_length = 3\n",
    "\n",
    "padded_reviews = pad_sequences(encoded_reviews, maxlen= max_length, padding= 'post')\n",
    "\n",
    "embeded_vector_size = 4\n",
    "\n",
    "model = Sequential()\n",
    "model.add(Embedding(vocab_size, embeded_vector_size, input_length=max_length, name= 'embedding'))\n",
    "model.add(Flatten())\n",
    "model.add(Dense(1, activation='sigmoid'))"
   ]
  },
  {
   "cell_type": "code",
   "execution_count": 7,
   "id": "6c19fc43-a3e7-4d16-b745-52d301821ecd",
   "metadata": {},
   "outputs": [
    {
     "data": {
      "text/plain": [
       "<keras.callbacks.History at 0x1b308847250>"
      ]
     },
     "execution_count": 7,
     "metadata": {},
     "output_type": "execute_result"
    }
   ],
   "source": [
    "model.compile(\n",
    "    optimizer='adam',\n",
    "    loss='binary_crossentropy',\n",
    "    metrics=['accuracy']\n",
    ")\n",
    "\n",
    "x = padded_reviews\n",
    "y = sentiment\n",
    "\n",
    "model.fit(x, y, epochs=100, verbose=0)"
   ]
  },
  {
   "cell_type": "markdown",
   "id": "6400018b-619b-4425-91cc-77b57a22d101",
   "metadata": {},
   "source": [
    "save the model 3 time to use it as version control in tf serving"
   ]
  },
  {
   "cell_type": "code",
   "execution_count": 6,
   "id": "68944db8-3b0d-4b64-bf0a-896e3a0231f8",
   "metadata": {},
   "outputs": [
    {
     "name": "stdout",
     "output_type": "stream",
     "text": [
      "INFO:tensorflow:Assets written to: saved_models/1/assets\n"
     ]
    }
   ],
   "source": [
    "model.save('saved_models/1/')"
   ]
  },
  {
   "cell_type": "code",
   "execution_count": 6,
   "id": "4f74ceb9-1d67-4560-b872-3c9225432bd9",
   "metadata": {
    "scrolled": true
   },
   "outputs": [
    {
     "name": "stdout",
     "output_type": "stream",
     "text": [
      "INFO:tensorflow:Assets written to: saved_models/2/assets\n"
     ]
    }
   ],
   "source": [
    "model.save('saved_models/2/')"
   ]
  },
  {
   "cell_type": "code",
   "execution_count": null,
   "id": "34f11260-4cbc-4549-9a17-5e42a82dfaca",
   "metadata": {},
   "outputs": [],
   "source": [
    "model.save('saved_models/3/')"
   ]
  },
  {
   "cell_type": "markdown",
   "id": "7597e093-1007-419c-9699-57448b0967d7",
   "metadata": {},
   "source": [
    "# quantization"
   ]
  },
  {
   "cell_type": "markdown",
   "id": "ee1645f9-a7d6-437b-8e23-a33c0159175a",
   "metadata": {},
   "source": [
    "reduce the model size to use it on other devices"
   ]
  },
  {
   "cell_type": "markdown",
   "id": "43ae1e94-8101-42af-acd9-6582b867a84f",
   "metadata": {},
   "source": [
    "quantization is a process of reducing model size so that it can run on EDGE devices\n",
    "\n",
    "converting all weights numbers float into integer to save memory with some algorithms that model result wont change that much\n",
    "\n",
    "benefits are: run ML models on every devices EDGE , faster inference"
   ]
  },
  {
   "cell_type": "markdown",
   "id": "88a6b507-8baf-4f7e-83ac-ef105b230feb",
   "metadata": {},
   "source": [
    "performing: \n",
    "\n",
    "1. post training quantization\n",
    "\n",
    "       use tf.lite convert\n",
    "\n",
    "2. quantization aware training\n",
    "\n",
    "       use quantize_model function on model then do training again then use tf.lite , accuracy wont suffer"
   ]
  },
  {
   "cell_type": "code",
   "execution_count": 8,
   "id": "c5a2833e-71db-4964-8cef-ba2e1717b297",
   "metadata": {},
   "outputs": [
    {
     "name": "stdout",
     "output_type": "stream",
     "text": [
      "INFO:tensorflow:Assets written to: ./saved_models\\assets\n"
     ]
    }
   ],
   "source": [
    "model.save('./saved_models')"
   ]
  },
  {
   "cell_type": "markdown",
   "id": "b56f06bb-ea89-4e56-a4c5-e493751a67bd",
   "metadata": {},
   "source": [
    "85"
   ]
  },
  {
   "cell_type": "markdown",
   "id": "5cf78d94-023b-4565-863d-5740559c85dc",
   "metadata": {},
   "source": [
    "### 1- post training quantization"
   ]
  },
  {
   "cell_type": "code",
   "execution_count": 29,
   "id": "cbadaee6-449e-40f6-97a9-728f730506cb",
   "metadata": {},
   "outputs": [],
   "source": [
    "import tensorflow as tf"
   ]
  },
  {
   "cell_type": "code",
   "execution_count": 19,
   "id": "6f048634-3a06-4903-9766-9306863f9390",
   "metadata": {},
   "outputs": [],
   "source": [
    "convertor = tf.lite.TFLiteConverter.from_saved_model('.\\saved_models')\n",
    "\n",
    "tflite_model = convertor.convert()"
   ]
  },
  {
   "cell_type": "code",
   "execution_count": 20,
   "id": "f889d1df-dc72-4848-b520-a7de0b4deb87",
   "metadata": {},
   "outputs": [
    {
     "data": {
      "text/plain": [
       "2676"
      ]
     },
     "execution_count": 20,
     "metadata": {},
     "output_type": "execute_result"
    }
   ],
   "source": [
    "len(tflite_model)"
   ]
  },
  {
   "cell_type": "code",
   "execution_count": 21,
   "id": "3d2d45df-4f29-4f27-8746-e7d822e1deeb",
   "metadata": {},
   "outputs": [],
   "source": [
    "convertor = tf.lite.TFLiteConverter.from_saved_model('.\\saved_models')\n",
    "convertor.optimizations = [tf.lite.Optimize.DEFAULT]\n",
    "\n",
    "tflite_quant_model = convertor.convert()"
   ]
  },
  {
   "cell_type": "code",
   "execution_count": 23,
   "id": "114e020e-d8a1-41ef-a8df-3be1ca726958",
   "metadata": {},
   "outputs": [
    {
     "data": {
      "text/plain": [
       "2680"
      ]
     },
     "execution_count": 23,
     "metadata": {},
     "output_type": "execute_result"
    }
   ],
   "source": [
    "len(tflite_quant_model)"
   ]
  },
  {
   "cell_type": "code",
   "execution_count": 24,
   "id": "c31c4354-7c89-4656-8811-c5004d886757",
   "metadata": {},
   "outputs": [],
   "source": [
    "with open('tf_model.tflite', 'wb') as f:\n",
    "    f.write(tflite_model)\n",
    "\n",
    "with open('tf_quant_model.tflite', 'wb') as f:\n",
    "    f.write(tflite_quant_model)"
   ]
  }
 ],
 "metadata": {
  "kernelspec": {
   "display_name": "Python 3 (ipykernel)",
   "language": "python",
   "name": "python3"
  },
  "language_info": {
   "codemirror_mode": {
    "name": "ipython",
    "version": 3
   },
   "file_extension": ".py",
   "mimetype": "text/x-python",
   "name": "python",
   "nbconvert_exporter": "python",
   "pygments_lexer": "ipython3",
   "version": "3.9.10"
  }
 },
 "nbformat": 4,
 "nbformat_minor": 5
}
