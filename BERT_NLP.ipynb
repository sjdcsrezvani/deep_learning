{
 "cells": [
  {
   "cell_type": "markdown",
   "id": "2eed1a27-b07a-4efe-9b81-6eaf21e4d5f2",
   "metadata": {},
   "source": [
    "# BERT"
   ]
  },
  {
   "cell_type": "markdown",
   "id": "8ae6af95-0a2b-46fa-abdb-c9541f1b5f7e",
   "metadata": {},
   "source": [
    "issue with word2vec :\n",
    "\n",
    "fixed embedding: meaning of some words are different in 2 sentences"
   ]
  },
  {
   "cell_type": "markdown",
   "id": "d2cb20a3-1644-4a57-90fa-09ca16a3786a",
   "metadata": {},
   "source": [
    "BERT can generate contextualized embeddings.\n",
    "\n",
    "it can look at the contex of the statement and generate feature base on that\n",
    "\n",
    "it can also generate embedding for entire sentence"
   ]
  },
  {
   "cell_type": "markdown",
   "id": "c6cabf8b-3ed9-4e26-817b-9b58dc925cb4",
   "metadata": {},
   "source": [
    "there are 2 versions of BERT: BERT base (12 encoder layer) and BERT large (24 encoder layer)\n",
    "\n",
    "trained on 2500 M word on wikipedia and 800 M words on books,etc"
   ]
  },
  {
   "cell_type": "markdown",
   "id": "64a2fa5b-79f8-421c-8a72-49d6a02c80b7",
   "metadata": {},
   "source": [
    "BERT stands for : bidirectional encoder representations from transformers"
   ]
  },
  {
   "cell_type": "markdown",
   "id": "45ce4050-fd5f-4d80-a5af-c513243d777e",
   "metadata": {},
   "source": [
    "# code"
   ]
  },
  {
   "cell_type": "code",
   "execution_count": 1,
   "id": "a7f0ae95-3469-4d7c-979c-e63e7cda6d0f",
   "metadata": {},
   "outputs": [],
   "source": [
    "import tensorflow_hub as hub\n",
    "import tensorflow_text as text"
   ]
  },
  {
   "cell_type": "code",
   "execution_count": 2,
   "id": "2b70c76c-cabb-4b6d-9a25-566d64145076",
   "metadata": {},
   "outputs": [],
   "source": [
    "preprocess_url = \"https://kaggle.com/models/tensorflow/bert/TensorFlow2/en-uncased-preprocess/3\"\n",
    "encoder_url = \"https://www.kaggle.com/models/tensorflow/bert/TensorFlow2/en-uncased-l-12-h-768-a-12/4\""
   ]
  },
  {
   "cell_type": "code",
   "execution_count": 4,
   "id": "07540f6f-fff0-4e1d-b5eb-c91e9c39c195",
   "metadata": {},
   "outputs": [],
   "source": [
    "bert_preprocess_model = hub.KerasLayer(preprocess_url)"
   ]
  },
  {
   "cell_type": "code",
   "execution_count": 5,
   "id": "98b4b28d-73e2-4d27-89ea-22ed40c115f5",
   "metadata": {},
   "outputs": [
    {
     "data": {
      "text/plain": [
       "dict_keys(['input_word_ids', 'input_mask', 'input_type_ids'])"
      ]
     },
     "execution_count": 5,
     "metadata": {},
     "output_type": "execute_result"
    }
   ],
   "source": [
    "text_test = ['nice movie indeed', 'i love data science']\n",
    "text_preprocessed = bert_preprocess_model(text_test)\n",
    "text_preprocessed.keys()"
   ]
  },
  {
   "cell_type": "code",
   "execution_count": 6,
   "id": "0a986e91-fd42-42a5-942c-6739dae94939",
   "metadata": {},
   "outputs": [
    {
     "data": {
      "text/plain": [
       "dict_keys(['default', 'pooled_output', 'sequence_output', 'encoder_outputs'])"
      ]
     },
     "execution_count": 6,
     "metadata": {},
     "output_type": "execute_result"
    }
   ],
   "source": [
    "bert_model = hub.KerasLayer(encoder_url) # it will generate word embedding model\n",
    "bert_results = bert_model(text_preprocessed)\n",
    "bert_results.keys()"
   ]
  },
  {
   "cell_type": "code",
   "execution_count": 7,
   "id": "521d1734-04ff-473c-983a-5959e4852122",
   "metadata": {},
   "outputs": [
    {
     "data": {
      "text/plain": [
       "<tf.Tensor: shape=(2, 768), dtype=float32, numpy=\n",
       "array([[-0.79177463, -0.21411951,  0.49769327, ...,  0.24465072,\n",
       "        -0.47334516,  0.81758744],\n",
       "       [-0.7441596 , -0.15070038,  0.542165  , ...,  0.2885735 ,\n",
       "        -0.5054263 ,  0.7955121 ]], dtype=float32)>"
      ]
     },
     "execution_count": 7,
     "metadata": {},
     "output_type": "execute_result"
    }
   ],
   "source": [
    "bert_results['pooled_output'] # is embedding vector for entire sentence"
   ]
  },
  {
   "cell_type": "code",
   "execution_count": 8,
   "id": "f91e0833-9825-47b7-b6c4-eda950a179c8",
   "metadata": {},
   "outputs": [
    {
     "data": {
      "text/plain": [
       "<tf.Tensor: shape=(2, 128, 768), dtype=float32, numpy=\n",
       "array([[[ 0.07292038,  0.08567842,  0.14476822, ..., -0.09677143,\n",
       "          0.08722145,  0.07711081],\n",
       "        [ 0.17839344, -0.19006258,  0.5034949 , ..., -0.0586981 ,\n",
       "          0.32717144, -0.15578583],\n",
       "        [ 0.18701449, -0.43388814, -0.48875296, ..., -0.15502766,\n",
       "          0.00145172, -0.2447103 ],\n",
       "        ...,\n",
       "        [ 0.12083013,  0.12884311,  0.4645362 , ...,  0.07375546,\n",
       "          0.17441897,  0.16522236],\n",
       "        [ 0.07967884, -0.01190644,  0.5022541 , ...,  0.13777748,\n",
       "          0.210022  ,  0.00624548],\n",
       "        [-0.07212698, -0.28303394,  0.5903344 , ...,  0.4755187 ,\n",
       "          0.1666846 , -0.08920381]],\n",
       "\n",
       "       [[ 0.17763807,  0.15645882,  0.09271723, ..., -0.08026289,\n",
       "          0.13287097,  0.23332372],\n",
       "        [ 0.64550316,  0.08793751, -0.20939505, ..., -0.22275954,\n",
       "          0.78166217,  0.45110697],\n",
       "        [ 1.2851384 ,  0.78914374,  0.25609958, ...,  0.11022428,\n",
       "          0.6739603 ,  0.23330894],\n",
       "        ...,\n",
       "        [ 0.29334167, -0.05314948,  0.47225308, ...,  0.32204744,\n",
       "          0.03780351,  0.16595235],\n",
       "        [ 0.20147522, -0.11847111,  0.48636878, ...,  0.23611271,\n",
       "          0.0398926 ,  0.17083892],\n",
       "        [ 0.24597912, -0.18865463,  0.47680482, ...,  0.29726648,\n",
       "          0.0603427 ,  0.08541606]]], dtype=float32)>"
      ]
     },
     "execution_count": 8,
     "metadata": {},
     "output_type": "execute_result"
    }
   ],
   "source": [
    "bert_results['sequence_output'] # is individual embedding vectors"
   ]
  },
  {
   "cell_type": "code",
   "execution_count": 10,
   "id": "ff62d055-8104-4937-9e66-5daf72aef5cc",
   "metadata": {},
   "outputs": [
    {
     "data": {
      "text/plain": [
       "12"
      ]
     },
     "execution_count": 10,
     "metadata": {},
     "output_type": "execute_result"
    }
   ],
   "source": [
    "len(bert_results['encoder_outputs']) # its 12 because we are using bert with 12 encoder layer"
   ]
  },
  {
   "cell_type": "code",
   "execution_count": 11,
   "id": "304e0803-c565-43aa-ab7f-cb434b268c65",
   "metadata": {},
   "outputs": [
    {
     "data": {
      "text/plain": [
       "<tf.Tensor: shape=(2, 128, 768), dtype=float32, numpy=\n",
       "array([[[ 0.07292038,  0.08567842,  0.14476822, ..., -0.09677143,\n",
       "          0.08722145,  0.07711081],\n",
       "        [ 0.17839344, -0.19006258,  0.5034949 , ..., -0.0586981 ,\n",
       "          0.32717144, -0.15578583],\n",
       "        [ 0.18701449, -0.43388814, -0.48875296, ..., -0.15502766,\n",
       "          0.00145172, -0.2447103 ],\n",
       "        ...,\n",
       "        [ 0.12083013,  0.12884311,  0.4645362 , ...,  0.07375546,\n",
       "          0.17441897,  0.16522236],\n",
       "        [ 0.07967884, -0.01190644,  0.5022541 , ...,  0.13777748,\n",
       "          0.210022  ,  0.00624548],\n",
       "        [-0.07212698, -0.28303394,  0.5903344 , ...,  0.4755187 ,\n",
       "          0.1666846 , -0.08920381]],\n",
       "\n",
       "       [[ 0.17763807,  0.15645882,  0.09271723, ..., -0.08026289,\n",
       "          0.13287097,  0.23332372],\n",
       "        [ 0.64550316,  0.08793751, -0.20939505, ..., -0.22275954,\n",
       "          0.78166217,  0.45110697],\n",
       "        [ 1.2851384 ,  0.78914374,  0.25609958, ...,  0.11022428,\n",
       "          0.6739603 ,  0.23330894],\n",
       "        ...,\n",
       "        [ 0.29334167, -0.05314948,  0.47225308, ...,  0.32204744,\n",
       "          0.03780351,  0.16595235],\n",
       "        [ 0.20147522, -0.11847111,  0.48636878, ...,  0.23611271,\n",
       "          0.0398926 ,  0.17083892],\n",
       "        [ 0.24597912, -0.18865463,  0.47680482, ...,  0.29726648,\n",
       "          0.0603427 ,  0.08541606]]], dtype=float32)>"
      ]
     },
     "execution_count": 11,
     "metadata": {},
     "output_type": "execute_result"
    }
   ],
   "source": [
    "bert_results['encoder_outputs'][-1] # last layer's output is same as sequence output"
   ]
  },
  {
   "cell_type": "code",
   "execution_count": null,
   "id": "e4e59a96-a35f-458b-8e9a-caab3d20f1b4",
   "metadata": {},
   "outputs": [],
   "source": []
  }
 ],
 "metadata": {
  "kernelspec": {
   "display_name": "Python 3 (ipykernel)",
   "language": "python",
   "name": "python3"
  },
  "language_info": {
   "codemirror_mode": {
    "name": "ipython",
    "version": 3
   },
   "file_extension": ".py",
   "mimetype": "text/x-python",
   "name": "python",
   "nbconvert_exporter": "python",
   "pygments_lexer": "ipython3",
   "version": "3.9.10"
  }
 },
 "nbformat": 4,
 "nbformat_minor": 5
}
